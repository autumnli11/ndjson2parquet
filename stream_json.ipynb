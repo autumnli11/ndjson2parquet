{
 "cells": [
  {
   "cell_type": "code",
   "execution_count": 1,
   "metadata": {},
   "outputs": [],
   "source": [
    "import pyarrow as pa\n",
    "import io\n",
    "import gzip\n",
    "from pyarrow import json as pajson\n",
    "from pyarrow.json import ReadOptions, ParseOptions\n",
    "import pyarrow.parquet as pq"
   ]
  },
  {
   "cell_type": "code",
   "execution_count": 2,
   "metadata": {},
   "outputs": [],
   "source": [
    "# use if schema is unknown and you want to write entire table\n",
    "def get_schema(fn):\n",
    "    return pajson.read_json(fn).schema"
   ]
  },
  {
   "cell_type": "code",
   "execution_count": 3,
   "metadata": {},
   "outputs": [],
   "source": [
    "sch = get_schema('test_0.json')"
   ]
  },
  {
   "cell_type": "code",
   "execution_count": 4,
   "metadata": {},
   "outputs": [],
   "source": [
    "def stream_json(fns, schema, chunk_size=10000000, is_gzip=False):\n",
    "    writer = pq.ParquetWriter('sample.parquet', schema)\n",
    "    \n",
    "    for fn in fns:\n",
    "        if is_gzip:\n",
    "            f = gzip.open(fn, 'r')\n",
    "        else:\n",
    "            f = open(fn, 'r')\n",
    "            \n",
    "        with f:\n",
    "            while True:\n",
    "                chunk = f.readlines(chunk_size)\n",
    "                if not chunk:\n",
    "                    break\n",
    "                    \n",
    "                tbl = pajson.read_json(io.BytesIO(''.join(chunk).encode()))\n",
    "                \n",
    "                # insert code to edit tbl for writing schema\n",
    "                \n",
    "                assert tbl.schema == schema\n",
    "                writer.write_table(tbl)\n",
    "                \n",
    "            f.close()\n",
    "            \n",
    "    writer.close()"
   ]
  },
  {
   "cell_type": "code",
   "execution_count": 5,
   "metadata": {},
   "outputs": [],
   "source": [
    "fns = ['test_0.json', 'test_1.json', 'test_2.json', 'test_3.json']"
   ]
  },
  {
   "cell_type": "markdown",
   "metadata": {},
   "source": [
    "Each file is approx 660MB with 13M lines of a repeating ndjson value: {\"some\":\"thing\",\"foo\":17,\"bar\":false,\"quux\":true}"
   ]
  },
  {
   "cell_type": "code",
   "execution_count": 6,
   "metadata": {},
   "outputs": [
    {
     "name": "stdout",
     "output_type": "stream",
     "text": [
      "Wall time: 37 s\n"
     ]
    }
   ],
   "source": [
    "%time stream_json(fns, sch)"
   ]
  },
  {
   "cell_type": "markdown",
   "metadata": {},
   "source": [
    "Resulting parquet file is 880KB (likely due to excellent compression)."
   ]
  }
 ],
 "metadata": {
  "kernelspec": {
   "display_name": "Python 3",
   "language": "python",
   "name": "python3"
  },
  "language_info": {
   "codemirror_mode": {
    "name": "ipython",
    "version": 3
   },
   "file_extension": ".py",
   "mimetype": "text/x-python",
   "name": "python",
   "nbconvert_exporter": "python",
   "pygments_lexer": "ipython3",
   "version": "3.7.1"
  }
 },
 "nbformat": 4,
 "nbformat_minor": 2
}
